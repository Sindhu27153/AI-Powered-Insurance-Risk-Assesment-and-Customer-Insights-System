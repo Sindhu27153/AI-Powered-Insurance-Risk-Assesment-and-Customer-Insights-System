{
 "cells": [
  {
   "cell_type": "markdown",
   "id": "29934f4c",
   "metadata": {},
   "source": [
    "####  1. Install required library "
   ]
  },
  {
   "cell_type": "code",
   "execution_count": 1,
   "id": "7a843325",
   "metadata": {},
   "outputs": [
    {
     "name": "stdout",
     "output_type": "stream",
     "text": [
      "Collecting fuzzywuzzy[speedup]\n",
      "  Downloading fuzzywuzzy-0.18.0-py2.py3-none-any.whl.metadata (4.9 kB)\n",
      "Collecting python-levenshtein>=0.12 (from fuzzywuzzy[speedup])\n",
      "  Downloading python_levenshtein-0.27.1-py3-none-any.whl.metadata (3.7 kB)\n",
      "Collecting Levenshtein==0.27.1 (from python-levenshtein>=0.12->fuzzywuzzy[speedup])\n",
      "  Downloading levenshtein-0.27.1-cp312-cp312-win_amd64.whl.metadata (3.6 kB)\n",
      "Collecting rapidfuzz<4.0.0,>=3.9.0 (from Levenshtein==0.27.1->python-levenshtein>=0.12->fuzzywuzzy[speedup])\n",
      "  Downloading rapidfuzz-3.13.0-cp312-cp312-win_amd64.whl.metadata (12 kB)\n",
      "Downloading python_levenshtein-0.27.1-py3-none-any.whl (9.4 kB)\n",
      "Downloading levenshtein-0.27.1-cp312-cp312-win_amd64.whl (100 kB)\n",
      "Downloading fuzzywuzzy-0.18.0-py2.py3-none-any.whl (18 kB)\n",
      "Downloading rapidfuzz-3.13.0-cp312-cp312-win_amd64.whl (1.6 MB)\n",
      "   ---------------------------------------- 0.0/1.6 MB ? eta -:--:--\n",
      "   ---------------------------------------- 0.0/1.6 MB ? eta -:--:--\n",
      "   ---------------------------------------- 0.0/1.6 MB ? eta -:--:--\n",
      "   ------ --------------------------------- 0.3/1.6 MB ? eta -:--:--\n",
      "   ------------ --------------------------- 0.5/1.6 MB 1.1 MB/s eta 0:00:01\n",
      "   ------------ --------------------------- 0.5/1.6 MB 1.1 MB/s eta 0:00:01\n",
      "   ------------ --------------------------- 0.5/1.6 MB 1.1 MB/s eta 0:00:01\n",
      "   ------------------- -------------------- 0.8/1.6 MB 657.8 kB/s eta 0:00:02\n",
      "   ------------------------- -------------- 1.0/1.6 MB 729.5 kB/s eta 0:00:01\n",
      "   ------------------------- -------------- 1.0/1.6 MB 729.5 kB/s eta 0:00:01\n",
      "   -------------------------------- ------- 1.3/1.6 MB 691.7 kB/s eta 0:00:01\n",
      "   -------------------------------- ------- 1.3/1.6 MB 691.7 kB/s eta 0:00:01\n",
      "   ---------------------------------------- 1.6/1.6 MB 722.6 kB/s eta 0:00:00\n",
      "Installing collected packages: fuzzywuzzy, rapidfuzz, Levenshtein, python-levenshtein\n",
      "Successfully installed Levenshtein-0.27.1 fuzzywuzzy-0.18.0 python-levenshtein-0.27.1 rapidfuzz-3.13.0\n",
      "Note: you may need to restart the kernel to use updated packages.\n"
     ]
    }
   ],
   "source": [
    "pip install fuzzywuzzy[speedup]"
   ]
  },
  {
   "cell_type": "markdown",
   "id": "add926a1",
   "metadata": {},
   "source": [
    "####  2. Python Chatbot Code"
   ]
  },
  {
   "cell_type": "code",
   "execution_count": null,
   "id": "4917fa28",
   "metadata": {},
   "outputs": [
    {
     "name": "stderr",
     "output_type": "stream",
     "text": [
      "<>:5: SyntaxWarning: invalid escape sequence '\\A'\n",
      "<>:5: SyntaxWarning: invalid escape sequence '\\A'\n",
      "C:\\Users\\sures\\AppData\\Local\\Temp\\ipykernel_11576\\3704470605.py:5: SyntaxWarning: invalid escape sequence '\\A'\n",
      "  with open(\"D:\\AI-Powered Intelligent Insurance Risk Assessment and Customer Insights System\\Dataset\\insurance_faq_100.json\", \"r\", encoding=\"utf-8\") as f:\n"
     ]
    },
    {
     "name": "stdout",
     "output_type": "stream",
     "text": [
      "🤖 Insurance FAQ Chatbot (type 'exit' to quit)\n",
      "\n",
      "Chatbot: Jeevan Lakshya is a non-linked participating individual life insurance plan offered by LIC, providing annual income and maturity benefits.\n"
     ]
    },
    {
     "name": "stderr",
     "output_type": "stream",
     "text": [
      "WARNING:root:Applied processor reduces input query to empty string, all comparisons will have score 0. [Query: '']\n"
     ]
    },
    {
     "name": "stdout",
     "output_type": "stream",
     "text": [
      "Chatbot: Sorry, I couldn't find an answer to that. Please try rephrasing your question.\n",
      "Chatbot: Anyone between 18 and 50 years of age can purchase the Jeevan Lakshya policy.\n",
      "Chatbot: Goodbye! Stay insured. 🛡️\n"
     ]
    }
   ],
   "source": [
    "import json\n",
    "from fuzzywuzzy import process\n",
    "\n",
    "# Load FAQ data\n",
    "with open(\"D:/AI-Powered Intelligent Insurance Risk Assessment and Customer Insights System/Dataset/insurance_faq_100.json\", \"r\", encoding=\"utf-8\") as f:\n",
    "    faq_data = json.load(f)\n",
    "\n",
    "# Prepare a question list for matching\n",
    "questions = [faq[\"question\"] for faq in faq_data]\n",
    "\n",
    "def get_answer(user_input):\n",
    "    # Find best matching question\n",
    "    best_match, score = process.extractOne(user_input, questions)\n",
    "    if score >= 60:  # adjust this threshold as needed\n",
    "        for faq in faq_data:\n",
    "            if faq[\"question\"] == best_match:\n",
    "                return faq[\"answer\"]\n",
    "    return \"Sorry, I couldn't find an answer to that. Please try rephrasing your question.\"\n",
    "\n",
    "# Chatbot loop\n",
    "print(\"🤖 Insurance FAQ Chatbot (type 'exit' to quit)\\n\")\n",
    "while True:\n",
    "    user_input = input(\"You: \")\n",
    "    if user_input.lower() in [\"exit\", \"quit\"]:\n",
    "        print(\"Chatbot: Goodbye! Stay insured. 🛡️\")\n",
    "        break\n",
    "    response = get_answer(user_input)\n",
    "    print(\"Chatbot:\", response)"
   ]
  },
  {
   "cell_type": "code",
   "execution_count": null,
   "id": "edee3892",
   "metadata": {},
   "outputs": [],
   "source": []
  },
  {
   "cell_type": "code",
   "execution_count": null,
   "id": "1ff86056",
   "metadata": {},
   "outputs": [],
   "source": []
  },
  {
   "cell_type": "code",
   "execution_count": null,
   "id": "777d1330",
   "metadata": {},
   "outputs": [],
   "source": []
  }
 ],
 "metadata": {
  "kernelspec": {
   "display_name": "env",
   "language": "python",
   "name": "python3"
  },
  "language_info": {
   "codemirror_mode": {
    "name": "ipython",
    "version": 3
   },
   "file_extension": ".py",
   "mimetype": "text/x-python",
   "name": "python",
   "nbconvert_exporter": "python",
   "pygments_lexer": "ipython3",
   "version": "3.12.5"
  }
 },
 "nbformat": 4,
 "nbformat_minor": 5
}
